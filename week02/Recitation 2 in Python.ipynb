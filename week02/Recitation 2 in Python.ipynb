{
 "cells": [
  {
   "cell_type": "markdown",
   "metadata": {},
   "source": [
    "Consider the linear program:\n",
    "$$\n",
    "\\left.\\begin{array}{rrcl} \\max & -2x+y \\\\\n",
    "    \\text {s.t.:} & & & \\\\\n",
    "    & -x + y \\leq 1 \\text{ (Constraint 1)}\\\\\n",
    "    & x+y \\geq 0 \\text{ (Constraint 2)} \\\\\n",
    "    & x, y \\geq 0 \\text{ (Non-negativity)} \\\\\n",
    "\\end{array}\\right\\}\n",
    "$$"
   ]
  },
  {
   "cell_type": "code",
   "execution_count": 8,
   "metadata": {
    "collapsed": true
   },
   "outputs": [],
   "source": [
    "%matplotlib inline\n",
    "import numpy as np\n",
    "import matplotlib.pyplot as plt"
   ]
  },
  {
   "cell_type": "code",
   "execution_count": 10,
   "metadata": {
    "collapsed": false
   },
   "outputs": [
    {
     "data": {
      "image/png": "[encoded data removed]",
      "text/plain": [
       "<matplotlib.figure.Figure at 0x819a898>"
      ]
     },
     "metadata": {},
     "output_type": "display_data"
    }
   ],
   "source": [
    "x = [0, 4, 4, 3, 0]\n",
    "y = [0, 0, 4, 4, 1]\n",
    "\n",
    "plt.fill(x,y)\n",
    "plt.show()"
   ]
  },
  {
   "cell_type": "code",
   "execution_count": 41,
   "metadata": {
    "collapsed": false
   },
   "outputs": [
    {
     "data": {
      "text/plain": [
       "<matplotlib.collections.PolyCollection at 0xc349d68>"
      ]
     },
     "execution_count": 41,
     "metadata": {},
     "output_type": "execute_result"
    },
    {
     "data": {
      "image/png": "[encoded data removed]",
      "text/plain": [
       "<matplotlib.figure.Figure at 0xc0140b8>"
      ]
     },
     "metadata": {},
     "output_type": "display_data"
    }
   ],
   "source": [
    "fig = plt.figure()\n",
    "ax = plt.axes()\n",
    " \n",
    "x = np.linspace(0, 2, 500)\n",
    "ax.plot(x, x+1, linestyle='--', label='y = x+1');\n",
    "ax.plot(x, -x, linestyle='--')\n",
    "ax.plot(x, 0*x, linestyle='--')\n",
    "\n",
    "ax.plot(x, 2*x+1, linestyle='-')\n",
    "\n",
    "plt.fill_between(x, x+1, 0*x, color='grey', alpha='0.5')"
   ]
  },
  {
   "cell_type": "code",
   "execution_count": null,
   "metadata": {
    "collapsed": true
   },
   "outputs": [],
   "source": []
  }
 ],
 "metadata": {
  "kernelspec": {
   "display_name": "Python 2",
   "language": "python",
   "name": "python2"
  },
  "language_info": {
   "codemirror_mode": {
    "name": "ipython",
    "version": 2
   },
   "file_extension": ".py",
   "mimetype": "text/x-python",
   "name": "python",
   "nbconvert_exporter": "python",
   "pygments_lexer": "ipython2",
   "version": "2.7.11"
  }
 },
 "nbformat": 4,
 "nbformat_minor": 0
}
