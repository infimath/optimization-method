{
 "cells": [
  {
   "cell_type": "markdown",
   "metadata": {},
   "source": [
    "#### Problem 1:\n",
    "Mr. Snowman, the mayor of Little Gotham, faces a serious snow storm in the coming days. He has two snow removal machines, and needs to remove snow from three different roads. He has 24 hours to remove 15 inches of snow from Road 1, 24 inches of snow from Road 2, and 18 inches of snow from Road 3. (Unusual for different amounts of snow to have to be removed from different roads, but that is the problem that Mr. Snowman faces.) In addition, each machine removes snow at a different rate on the three roads.\n",
    "\n",
    "Machine 1 can remove one inch an hour from Road 1; it removes 1.2 inches an hour from Road 2; it removes two inches an hour from Road 3. Machine 2 can remove two inches an hour from Road 1, three inches an hour from Road 2 and three inches an hour from Road 3. The optimization problem is to remove as much snow as possible in 24 hours using the two machines.\n",
    "\n",
    "The decision variables are:\n",
    "\n",
    "- $x_{rm}$: the number of hours that road r is cleaned by machine m.\n",
    "\n",
    "Mr. Snowman tries to model it as a linear program. He gives the following formulation. As his assistant, you are concerned that some of the inequalities have been reversed. Which of the following is the best response?\n",
    "\n",
    "$$\n",
    "\\left. \\begin{array}{rrcl} & \\max x_{11} + 2x_{12} + 1.2x_{21} + 3x_{22} + 2x_{31} +3x_{32}  & & \\\\\n",
    "          \\text {s.t.:} & & & \\\\\n",
    "          (1)&  x_{11} + x_{21} + x_{31} & \\le &  24 \\\\\n",
    "          (2)&  x_{12} + x_{22} + x_{32} & \\le &  24 \\\\\n",
    "          (3)&  x_{11} + 2x_{12} & \\le &  15 \\\\\n",
    "          (4)& 1.2x_{21} + 3x_{22} & \\le &  24 \\\\\n",
    "          (5)& 2x_{31} + 3x_{32} & \\le &  18 \\\\\n",
    "          (6)& x_{11}, x_{12}, x_{21}, x_{22}, x_{31}, x_{32},   & \\ge &  0 \\\\\n",
    "              \\end{array}\\right\\}\n",
    "$$"
   ]
  },
  {
   "cell_type": "code",
   "execution_count": 22,
   "metadata": {
    "collapsed": false
   },
   "outputs": [
    {
     "name": "stdout",
     "output_type": "stream",
     "text": [
      "Operation time of Machine 1: 0.0\n",
      "Operation time of Machine 2: 21.5\n",
      "Optimal amount of ice removed: 57.0\n"
     ]
    }
   ],
   "source": [
    "using JuMP\n",
    "#Define model \n",
    "MaxIce = Model()\n",
    "#Non-negativity\n",
    "@variable(MaxIce, x[1:3,1:2] >= 0 )\n",
    "#Time Constraint\n",
    "@constraint(MaxIce, x[1,1] + x[2,1] + x[3,1] <= 24)\n",
    "@constraint(MaxIce, x[1,2] + x[2,2] + x[3,2] <= 24)\n",
    "#The amount of ice in each each road\n",
    "@constraint(MaxIce, x[1,1] + 2x[1,2] <= 15)\n",
    "@constraint(MaxIce, 1.2x[2,1] + 3x[2,2] <= 24)\n",
    "@constraint(MaxIce, 2x[3,1] + 3x[3,2] <= 18)\n",
    "# Maximize the amount of ice removed\n",
    "@objective(MaxIce, Max, 1x[1,1] + 1.2x[2,1] + 2x[3,1] + 2x[1,2] + 3x[2,2] + 3x[3,2])\n",
    "#Solve the optimization problem\n",
    "solve(MaxIce)\n",
    "#Determine consumption amounts\n",
    "println(\"Operation time of Machine 1: \", getvalue(x[1,1] + x[2,1] + x[3,1]))\n",
    "println(\"Operation time of Machine 2: \", getvalue(x[1,2] + x[2,2] + x[3,2]))\n",
    "#Determine optimal amount of ice removed\n",
    "println(\"Optimal amount of ice removed: \", getobjectivevalue(MaxIce))"
   ]
  },
  {
   "cell_type": "markdown",
   "metadata": {},
   "source": [
    "#### Problem 2:\n",
    "Suppose if we want to minimize the time to remove all the snow, then the new LP will be the follwoing with the same decision variable:\n",
    "\n",
    "$$\n",
    "\\left. \\begin{array}{rrcl} & \\min x_{11} + x_{21} + x_{31} + x_{12} + x_{22} + x_{32}  & & \\\\\n",
    "          \\text {s.t.:} & & & \\\\\n",
    "          (1)&  x_{11} + 2x_{12} & \\ge &  15 \\\\\n",
    "          (2)& 1.2x_{21} + 3x_{22} & \\ge &  24 \\\\\n",
    "          (3)& 2x_{31} + 3x_{32} & \\ge &  18 \\\\\n",
    "          (4)& x_{11}, x_{12}, x_{21}, x_{22}, x_{31}, x_{32},   & \\ge &  0 \\\\\n",
    "              \\end{array}\\right\\}\n",
    "$$"
   ]
  },
  {
   "cell_type": "code",
   "execution_count": 17,
   "metadata": {
    "collapsed": false
   },
   "outputs": [
    {
     "name": "stdout",
     "output_type": "stream",
     "text": [
      "variable values: [0.0 7.5\n",
      " 0.0 8.0\n",
      " 0.0 6.0]\n",
      "Optimal amount of time consumed: 0.0\n"
     ]
    }
   ],
   "source": [
    "using JuMP\n",
    "#Define model \n",
    "MinTime = Model()\n",
    "#Non-negativity\n",
    "@variable(MinTime, x[1:3,1:2] >= 0 )\n",
    "#The amount of ice in each each road\n",
    "@constraint(MinTime, x[1,1] + 2x[1,2] >= 15)\n",
    "@constraint(MinTime, 1.2x[2,1] + 3x[2,2] >= 24)\n",
    "@constraint(MinTime, 2x[3,1] + 3x[3,2] >= 18)\n",
    "# Maximize the amount of ice removed\n",
    "@objective(MinTime, Min, x[1,1] + x[2,1] + x[3,1] + x[1,2] + x[2,2] + x[3,2])\n",
    "#Solve the optimization problem\n",
    "solve(MinTime)\n",
    "#Determine consumption amounts\n",
    "println(\"variable values: \", getvalue(x))\n",
    "#Determine optimal amount of ice removed\n",
    "println(\"Optimal amount of time consumed: \", getobjectivevalue(MinTime))"
   ]
  },
  {
   "cell_type": "markdown",
   "metadata": {},
   "source": [
    "**The correct solution is as follows:**\n",
    "\n",
    "Consider now that the mayor wants to remove the snow as soon as possible.\n",
    "\n",
    "Hint: Let $z$ be the earliest time that machines $m_1$ and $m_2$ have both finished. The objective is to minimize $z$.\n",
    "\n",
    "Mr. Snowman tries to model it as a linear program. He gives the following formulation. As his assistant, you are concerned that some of the inequalities have been reversed. Which of the following is the best response?\n",
    "\n",
    "$$\n",
    "\\left. \\begin{array}{rrcl} & \\min z  & & \\\\\n",
    "          \\text {s.t.:} & & & \\\\\n",
    "          (1)& x_{11} + x_{21} + x_{31} & \\le & z\\\\\n",
    "          (2)& x_{12} + x_{22} + x_{32} & \\le & z\\\\\n",
    "          (3)&  x_{11} + 2x_{12} & = &  15 \\\\\n",
    "          (4)& 1.2x_{21} + 3x_{22} & = &  24 \\\\\n",
    "          (5)& 2x_{31} + 3x_{32} & = &  18 \\\\\n",
    "          (6)& x_{11}, x_{12}, x_{21}, x_{22}, x_{31}, x_{32}, z   & \\ge &  0 \\\\\n",
    "        \\end{array}\n",
    "\\right\\}\n",
    "$$\n"
   ]
  },
  {
   "cell_type": "code",
   "execution_count": 20,
   "metadata": {
    "collapsed": false
   },
   "outputs": [
    {
     "name": "stdout",
     "output_type": "stream",
     "text": [
      "variable values: [4.333333333333333 5.333333333333334\n",
      " 0.0 8.0\n",
      " 9.0 0.0]\n",
      "Optimal amount of time used by both machine: 13.333333333333332\n"
     ]
    }
   ],
   "source": [
    "using JuMP\n",
    "#Define model \n",
    "MinTime = Model()\n",
    "#Non-negativity\n",
    "@variable(MinTime, x[1:3,1:2] >= 0 )\n",
    "@variable(MinTime, z >= 0)\n",
    "# We have find the minimum of the maximum\n",
    "@constraint(MinTime, x[1,1] + x[2,1] + x[3,1] <= z)\n",
    "@constraint(MinTime, x[1,2] + x[2,2] + x[3,2] <= z)\n",
    "#The amount of ice in each each road\n",
    "@constraint(MinTime, x[1,1] + 2x[1,2] == 15)\n",
    "@constraint(MinTime, 1.2x[2,1] + 3x[2,2] == 24)\n",
    "@constraint(MinTime, 2x[3,1] + 3x[3,2] == 18)\n",
    "# Minimize the amount of ice removed\n",
    "@objective(MinTime, Min, z)\n",
    "#Solve the optimization problem\n",
    "solve(MinTime)\n",
    "#Determine consumption amounts\n",
    "println(\"variable values: \", getvalue(x))\n",
    "#Determine optimal amount of ice removed\n",
    "println(\"Optimal amount of time used by both machine: \", getobjectivevalue(MinTime))"
   ]
  },
  {
   "cell_type": "code",
   "execution_count": null,
   "metadata": {
    "collapsed": true
   },
   "outputs": [],
   "source": []
  }
 ],
 "metadata": {
  "kernelspec": {
   "display_name": "Julia 0.4.7",
   "language": "julia",
   "name": "julia-0.4"
  },
  "language_info": {
   "file_extension": ".jl",
   "mimetype": "application/julia",
   "name": "julia",
   "version": "0.4.7"
  }
 },
 "nbformat": 4,
 "nbformat_minor": 0
}
