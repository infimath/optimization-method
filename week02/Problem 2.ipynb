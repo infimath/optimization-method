{
 "cells": [
  {
   "cell_type": "markdown",
   "metadata": {},
   "source": [
    "### Problem :\n",
    "Mr. Snowman, the mayor of Little Gotham, faces a serious snow storm in the coming days. He has two snow removal machines, and needs to remove snow from three different roads. He has 24 hours to remove 15 inches of snow from Road 1, 24 inches of snow from Road 2, and 18 inches of snow from Road 3. (Unusual for different amounts of snow to have to be removed from different roads, but that is the problem that Mr. Snowman faces.) In addition, each machine removes snow at a different rate on the three roads.\n",
    "\n",
    "Machine 1 can remove one inch an hour from Road 1; it removes 1.2 inches an hour from Road 2; it removes two inches an hour from Road 3. Machine 2 can remove two inches an hour from Road 1, three inches an hour from Road 2 and three inches an hour from Road 3. The optimization problem is to remove as much snow as possible in 24 hours using the two machines.\n",
    "\n",
    "The decision variables are:\n",
    "\n",
    "- $x_{rm}$: the number of hours that road r is cleaned by machine m.\n",
    "\n",
    "Mr. Snowman tries to model it as a linear program. He gives the following formulation. As his assistant, you are concerned that some of the inequalities have been reversed. Which of the following is the best response?\n",
    "\n",
    "$$\n",
    "\\left. \\begin{array}{rrcl} & \\max x_{11} + 2x_{12} + 1.2x_{21} + 3x_{22} + 2x_{31} +3x_{32}  & & \\\\\n",
    "          \\text {s.t.:} & & & \\\\\n",
    "          (1)&  x_{11} + x_{21} + x_{31} & \\le &  24 \\\\\n",
    "          (2)&  x_{12} + x_{22} + x_{32} & \\le &  24 \\\\\n",
    "          (3)&  x_{11} + 2x_{12} & \\le &  15 \\\\\n",
    "          (4)& 1.2x_{21} + 3x_{22} & \\le &  24 \\\\\n",
    "          (5)& 2x_{31} + 3x_{32} & \\le &  18 \\\\\n",
    "          (6)& x_{11}, x_{12}, x_{21}, x_{22}, x_{31}, x_{32},   & \\ge &  0 \\\\\n",
    "              \\end{array}\\right\\}\n",
    "$$"
   ]
  },
  {
   "cell_type": "code",
   "execution_count": 5,
   "metadata": {
    "collapsed": false
   },
   "outputs": [
    {
     "name": "stdout",
     "output_type": "stream",
     "text": [
      "variable values: [0.0 7.5\n",
      " 0.0 8.0\n",
      " 0.0 6.0]\n",
      "Objetive value: 57.0\n"
     ]
    }
   ],
   "source": [
    "using JuMP\n",
    "#Define model \n",
    "m = Model()\n",
    "#Non-negativity\n",
    "@variable(m, x[1:3,1:2] >= 0 )\n",
    "#Time Constraint\n",
    "@constraint(m, x[1,1] + x[2,1] + x[3,1] <= 24)\n",
    "@constraint(m, x[1,2] + x[2,2] + x[3,2] <= 24)\n",
    "#The amount of ice in each each road\n",
    "@constraint(m, x[1,1] + 2x[1,2] <= 15)\n",
    "@constraint(m, 1.2x[2,1] + 3x[2,2] <= 24)\n",
    "@constraint(m, 2x[3,1] + 3x[3,2] <= 18)\n",
    "# Maximize the amount of ice removed\n",
    "@objective(m, Max, 1x[1,1] + 1.2x[2,1] + 2x[3,1] + 2x[1,2] + 3x[2,2] + 3x[3,2])\n",
    "#Solve the optimization problem\n",
    "solve(m)\n",
    "#Determine consumption amounts\n",
    "println(\"variable values: \", getvalue(x))\n",
    "#Determine optimal cost of consumption\n",
    "println(\"Objetive value: \", getobjectivevalue(m))"
   ]
  },
  {
   "cell_type": "code",
   "execution_count": null,
   "metadata": {
    "collapsed": true
   },
   "outputs": [],
   "source": []
  }
 ],
 "metadata": {
  "kernelspec": {
   "display_name": "Julia 0.4.7",
   "language": "julia",
   "name": "julia-0.4"
  },
  "language_info": {
   "file_extension": ".jl",
   "mimetype": "application/julia",
   "name": "julia",
   "version": "0.4.7"
  }
 },
 "nbformat": 4,
 "nbformat_minor": 0
}
