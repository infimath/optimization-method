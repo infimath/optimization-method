{
 "cells": [
  {
   "cell_type": "markdown",
   "metadata": {},
   "source": [
    "### Problem :\n",
    "Mr. Snowman, the mayor of Little Gotham, faces a serious snow storm in the coming days. He has two snow removal machines, and needs to remove snow from three different roads. He has 24 hours to remove 15 inches of snow from Road 1, 24 inches of snow from Road 2, and 18 inches of snow from Road 3. (Unusual for different amounts of snow to have to be removed from different roads, but that is the problem that Mr. Snowman faces.) In addition, each machine removes snow at a different rate on the three roads.\n",
    "\n",
    "Machine 1 can remove one inch an hour from Road 1; it removes 1.2 inches an hour from Road 2; it removes two inches an hour from Road 3. Machine 2 can remove two inches an hour from Road 1, three inches an hour from Road 2 and three inches an hour from Road 3. The optimization problem is to remove as much snow as possible in 24 hours using the two machines.\n",
    "\n",
    "The decision variables are:\n",
    "\n",
    "- $x_{rm}$: the number of hours that road r is cleaned by machine m.\n",
    "\n",
    "Mr. Snowman tries to model it as a linear program. He gives the following formulation. As his assistant, you are concerned that some of the inequalities have been reversed. Which of the following is the best response?\n",
    "\n",
    "$$\n",
    "\\left. \\begin{array}{rrcl} & \\max x_{11} + 2x_{12} + 1.2x_{21} + 3x_{22} + 2x_{31} +3x_{32}  & & \\\\\n",
    "          \\text {s.t.:} & & & \\\\\n",
    "          (1)&  x_{11} + x_{21} + x_{31} & \\le &  24 \\\\\n",
    "          (2)&  x_{12} + x_{22} + x_{32} & \\le &  24 \\\\\n",
    "          (3)&  x_{11} + 2x_{12} & \\le &  15 \\\\\n",
    "          (4)& 1.2x_{21} + 3x_{22} & \\le &  24 \\\\\n",
    "          (5)& 2x_{31} + 3x_{32} & \\le &  18 \\\\\n",
    "          (6)& x_{11}, x_{12}, x_{21}, x_{22}, x_{31}, x_{32},   & \\ge &  0 \\\\\n",
    "              \\end{array}\\right\\}\n",
    "$$"
   ]
  },
  {
   "cell_type": "code",
   "execution_count": null,
   "metadata": {
    "collapsed": true
   },
   "outputs": [],
   "source": [
    "using JuMP\n",
    "#Define model \n",
    "m = Model()\n",
    "#Food available\n",
    "S = [\"brownies\",\"ice cream\",\"cola\",\"cheese cake\"]\n",
    "#Non-negativity\n",
    "@variable(m, x[S] >= 0)\n",
    "#Minimum calories\n",
    "@addConstraint(m, 400x[\"brownies\"] + 200x[\"ice cream\"] + 150x[\"cola\"] + 500x[\"cheese cake\"] >= 500)\n",
    "#At least 6 grams of chocolate\n",
    "@constraint(m, 3x[\"brownies\"] + 2x[\"ice cream\"] >= 6)\n",
    "#At least 10 grams of sugar\n",
    "@constraint(m, 2x[\"brownies\"] + 2x[\"ice cream\"] + 4x[\"cola\"] + 4x[\"cheese cake\"] >= 10)\n",
    "#At least 8 grams of fat\n",
    "@constraint(m, 2x[\"brownies\"] + 4x[\"ice cream\"] + 1x[\"cola\"] + 5x[\"cheese cake\"] >= 8)\n",
    "#Minimize cost of consumption\n",
    "@objective(m, Min, 0.5x[\"brownies\"] + 0.2x[\"ice cream\"] + 0.3x[\"cola\"] + 0.8x[\"cheese cake\"])\n",
    "#Solve the optimization problem\n",
    "solve(m)\n",
    "#Determine consumption amounts\n",
    "println(\"variable values: \", getvalue(x))\n",
    "#Determine optimal cost of consumption\n",
    "println(\"Objetive value: \", getObjectiveValue(m))"
   ]
  }
 ],
 "metadata": {
  "kernelspec": {
   "display_name": "Julia 0.4.6",
   "language": "julia",
   "name": "julia-0.4"
  },
  "language_info": {
   "file_extension": ".jl",
   "mimetype": "application/julia",
   "name": "julia",
   "version": "0.4.6"
  }
 },
 "nbformat": 4,
 "nbformat_minor": 0
}
