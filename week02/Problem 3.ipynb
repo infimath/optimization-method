{
 "cells": [
  {
   "cell_type": "markdown",
   "metadata": {},
   "source": [
    "PART A\n",
    "\n",
    "Consider a diet problem with two different foods (Food 1 and Food 2) and three different nutrients (Nutrient 1, Nutrient 2, and Nutrient 3). The amount of ounces of each nutrient per unit of food is given in table. The price of Food 1 is \\$2. The price of Food 2 is \\$3. The minimum requirements for the Nutrients 1, 2 and 3 are 30, 20, and 12 ounces, respectively. The optimization problem is to find the minimum cost diet that meets the minimum nutritional requirements.\n",
    "\n",
    "|              | Nutrient 1 | Nutrient 2 | Nutrient 3 | Price(\\$) |\n",
    "|--------------|:----------:|:----------:|:----------:|----------:|\n",
    "| Food 1       |      4     |     6      |      1     |         2 |\n",
    "| Food 2       |      6     |      2     |      2     |         3 |\n",
    "| Requirements |     30     |     20     |     12     |           |\n",
    "\n",
    "The decision variables are\n",
    "\n",
    "- $x$ how much of food 1 to buy\n",
    "- $y$ how much of food 2 to buy\n",
    "\n",
    "The formulation is\n",
    "$$\n",
    "\\left. \\begin{array}{rrcl}  \\min & 2x+3y   & &\\\\\n",
    "          \\text {Subject to:} & & & \\\\\n",
    "          \\text{Nutrient1} &  4x+6y & \\ge &  30 \\\\\n",
    "          \\text{Nutrient2} &  6x+2y & \\ge &  20 \\\\\n",
    "          \\text{Nutrient3} &  x+2y & \\ge &  12 \\\\\n",
    "          \\text{Non negativity} & x,y   & \\ge &  0 \\\\\n",
    "        \\end{array}\n",
    "\\right\\}\n",
    "$$              \n",
    "Solve the optimization problem in Julia."
   ]
  },
  {
   "cell_type": "code",
   "execution_count": 1,
   "metadata": {
    "collapsed": false
   },
   "outputs": [
    {
     "name": "stdout",
     "output_type": "stream",
     "text": [
      "Amount of food 1 to buy: 1.5999999999999996\n",
      "Amount of food 2 to buy: 5.2\n",
      "Minimum amout of money spend: 18.8\n"
     ]
    }
   ],
   "source": [
    "using JuMP\n",
    "#Define Model\n",
    "MinCost = Model()\n",
    "# Non-negative variables\n",
    "@variable(MinCost, x >= 0)\n",
    "@variable(MinCost, y >= 0)\n",
    "# Daily requirement of each constraints\n",
    "@constraint(MinCost, 4x + 6y >= 30)\n",
    "@constraint(MinCost, 6x + 2y >= 20)\n",
    "@constraint(MinCost,  x + 2y >= 12)\n",
    "# Minimize the cost\n",
    "@objective(MinCost, Min, 2x + 3y)\n",
    "# Solving the optimization problem\n",
    "solve(MinCost)\n",
    "# Determine the value each food needs to buy\n",
    "println(\"Amount of food 1 to buy: \", getvalue(x))\n",
    "println(\"Amount of food 2 to buy: \", getvalue(y))\n",
    "# Determine the Minimum cost \n",
    "println(\"Minimum amout of money spend: \", getobjectivevalue(MinCost))"
   ]
  },
  {
   "cell_type": "code",
   "execution_count": 2,
   "metadata": {
    "collapsed": false
   },
   "outputs": [
    {
     "name": "stdout",
     "output_type": "stream",
     "text": [
      "6.8"
     ]
    }
   ],
   "source": [
    "print(getvalue(x)+getvalue(y))"
   ]
  },
  {
   "cell_type": "markdown",
   "metadata": {},
   "source": [
    "PART B\n",
    "\n",
    "Using fooddata.csv file, which contains randomly generated nutritional values for 10 different types of food.\n",
    "\n",
    "We wish to minimize the number of calories consumed while intaking at least 50 fats, 300 carbohydrates, 60 proteins, and no more than 20 saturated fats.\n",
    "\n",
    "Formulate a linear program, and determine the minimum number of calories consumed. The \"read_csv\" or \"readtable\" function in Julia will be helpful in reading the data set into memory."
   ]
  },
  {
   "cell_type": "code",
   "execution_count": 3,
   "metadata": {
    "collapsed": false
   },
   "outputs": [
    {
     "data": {
      "text/html": [
       "<table class=\"data-frame\"><tr><th></th><th>Nutrition</th><th>x1_00</th><th>x2_00</th><th>x3_00</th><th>x4_00</th><th>x5_00</th></tr><tr><th>1</th><td>Food</td><td>Calories</td><td>Fat</td><td>Saturated Fat</td><td>Carbohydrate</td><td>Protein</td></tr><tr><th>2</th><td>1</td><td>448</td><td>1</td><td>5</td><td>36</td><td>2</td></tr><tr><th>3</th><td>2</td><td>305</td><td>17</td><td>4</td><td>40</td><td>7</td></tr><tr><th>4</th><td>3</td><td>337</td><td>4</td><td>5</td><td>22</td><td>4</td></tr><tr><th>5</th><td>4</td><td>455</td><td>18</td><td>2</td><td>83</td><td>5</td></tr><tr><th>6</th><td>5</td><td>314</td><td>19</td><td>1</td><td>76</td><td>13</td></tr><tr><th>7</th><td>6</td><td>437</td><td>19</td><td>5</td><td>45</td><td>1</td></tr><tr><th>8</th><td>7</td><td>438</td><td>3</td><td>1</td><td>93</td><td>0</td></tr><tr><th>9</th><td>8</td><td>413</td><td>17</td><td>3</td><td>77</td><td>0</td></tr><tr><th>10</th><td>9</td><td>481</td><td>13</td><td>5</td><td>54</td><td>0</td></tr><tr><th>11</th><td>10</td><td>150</td><td>14</td><td>0</td><td>22</td><td>2</td></tr><tr><th>12</th><td>NA</td><td>NA</td><td>NA</td><td>NA</td><td>NA</td><td>NA</td></tr><tr><th>13</th><td>NA</td><td>NA</td><td>NA</td><td>NA</td><td>NA</td><td>NA</td></tr></table>"
      ],
      "text/plain": [
       "13×6 DataFrames.DataFrame\n",
       "│ Row │ Nutrition │ x1_00      │ x2_00 │ x3_00           │ x4_00          │\n",
       "├─────┼───────────┼────────────┼───────┼─────────────────┼────────────────┤\n",
       "│ 1   │ \"Food\"    │ \"Calories\" │ \"Fat\" │ \"Saturated Fat\" │ \"Carbohydrate\" │\n",
       "│ 2   │ \"1\"       │ \"448\"      │ \"1\"   │ \"5\"             │ \"36\"           │\n",
       "│ 3   │ \"2\"       │ \"305\"      │ \"17\"  │ \"4\"             │ \"40\"           │\n",
       "│ 4   │ \"3\"       │ \"337\"      │ \"4\"   │ \"5\"             │ \"22\"           │\n",
       "│ 5   │ \"4\"       │ \"455\"      │ \"18\"  │ \"2\"             │ \"83\"           │\n",
       "│ 6   │ \"5\"       │ \"314\"      │ \"19\"  │ \"1\"             │ \"76\"           │\n",
       "│ 7   │ \"6\"       │ \"437\"      │ \"19\"  │ \"5\"             │ \"45\"           │\n",
       "│ 8   │ \"7\"       │ \"438\"      │ \"3\"   │ \"1\"             │ \"93\"           │\n",
       "│ 9   │ \"8\"       │ \"413\"      │ \"17\"  │ \"3\"             │ \"77\"           │\n",
       "│ 10  │ \"9\"       │ \"481\"      │ \"13\"  │ \"5\"             │ \"54\"           │\n",
       "│ 11  │ \"10\"      │ \"150\"      │ \"14\"  │ \"0\"             │ \"22\"           │\n",
       "│ 12  │ NA        │ NA         │ NA    │ NA              │ NA             │\n",
       "│ 13  │ NA        │ NA         │ NA    │ NA              │ NA             │\n",
       "\n",
       "│ Row │ x5_00     │\n",
       "├─────┼───────────┤\n",
       "│ 1   │ \"Protein\" │\n",
       "│ 2   │ \"2\"       │\n",
       "│ 3   │ \"7\"       │\n",
       "│ 4   │ \"4\"       │\n",
       "│ 5   │ \"5\"       │\n",
       "│ 6   │ \"13\"      │\n",
       "│ 7   │ \"1\"       │\n",
       "│ 8   │ \"0\"       │\n",
       "│ 9   │ \"0\"       │\n",
       "│ 10  │ \"0\"       │\n",
       "│ 11  │ \"2\"       │\n",
       "│ 12  │ NA        │\n",
       "│ 13  │ NA        │"
      ]
     },
     "execution_count": 3,
     "metadata": {},
     "output_type": "execute_result"
    }
   ],
   "source": [
    "using DataFrames\n",
    "Nutrition = readtable(\"fooddata.csv\")"
   ]
  },
  {
   "cell_type": "code",
   "execution_count": 4,
   "metadata": {
    "collapsed": false
   },
   "outputs": [
    {
     "name": "stderr",
     "output_type": "stream",
     "text": [
      "WARNING: int(a::AbstractArray) is deprecated, use [parse(Int64,s) for s = a] instead.\n",
      " in depwarn at deprecated.jl:73\n",
      " in int at deprecated.jl:273\n",
      " in include_string at loading.jl:295\n",
      " in execute_request at /opt/julia_packages/.julia/v0.4/IJulia/src/execute_request.jl:169\n",
      " in eventloop at /opt/julia_packages/.julia/v0.4/IJulia/src/eventloop.jl:8\n",
      " in anonymous at task.jl:447\n",
      "while loading In[4], in expression starting on line 2\n",
      "WARNING: int(a::AbstractArray) is deprecated, use [parse(Int64,s) for s = a] instead.\n",
      " in depwarn at deprecated.jl:73\n",
      " in int at deprecated.jl:273\n",
      " in include_string at loading.jl:295\n",
      " in execute_request at /opt/julia_packages/.julia/v0.4/IJulia/src/execute_request.jl:169\n",
      " in eventloop at /opt/julia_packages/.julia/v0.4/IJulia/src/eventloop.jl:8\n",
      " in anonymous at task.jl:447\n",
      "while loading In[4], in expression starting on line 3\n"
     ]
    },
    {
     "data": {
      "text/plain": [
       "10-element Array{Int64,1}:\n",
       "  2\n",
       "  7\n",
       "  4\n",
       "  5\n",
       " 13\n",
       "  1\n",
       "  0\n",
       "  0\n",
       "  0\n",
       "  2"
      ]
     },
     "execution_count": 4,
     "metadata": {},
     "output_type": "execute_result"
    }
   ],
   "source": [
    "# Reading the food nutrients\n",
    "FoodIndex = int(Nutrition[2:11,1])\n",
    "Calories  = int(Nutrition[2:11,2])\n",
    "Fat       = int(Nutrition[2:11,3])\n",
    "SatFat    = int(Nutrition[2:11,4])\n",
    "Carb      = int(Nutrition[2:11,5])\n",
    "Protein   = int(Nutrition[2:11,6])"
   ]
  },
  {
   "cell_type": "code",
   "execution_count": 5,
   "metadata": {
    "collapsed": false
   },
   "outputs": [
    {
     "name": "stdout",
     "output_type": "stream",
     "text": [
      "Optimal amount of calories: 1449.2307692307693\n"
     ]
    }
   ],
   "source": [
    "using JuMP\n",
    "MinCal = Model()\n",
    "# Non-negative food variables\n",
    "@variable(MinCal, x[1:10] >= 0)\n",
    "# Minimum of each nutrients\n",
    "@constraint(MinCal, sum{x[i] *     Fat[i], i=1:10} >=  60)\n",
    "@constraint(MinCal, sum{x[i] *  SatFat[i], i=1:10} <=  20)\n",
    "@constraint(MinCal, sum{x[i] *    Carb[i], i=1:10} >= 300)\n",
    "@constraint(MinCal, sum{x[i] * Protein[i], i=1:10} >=  60)\n",
    "\n",
    "# Minimize the Calories\n",
    "@objective(MinCal, Min, sum{x[i] * Calories[i], i=1:10})\n",
    "\n",
    "# Solving the model\n",
    "solve(MinCal)\n",
    "println(\"Optimal amount of calories: \", getobjectivevalue(MinCal))"
   ]
  },
  {
   "cell_type": "code",
   "execution_count": 6,
   "metadata": {
    "collapsed": false
   },
   "outputs": [
    {
     "name": "stdout",
     "output_type": "stream",
     "text": [
      "    1449.23\n"
     ]
    }
   ],
   "source": [
    "# Format the output according to the problem.\n",
    "using Formatting\n",
    "fe = FormatExpr(\"    {1:04.2f}\")\n",
    "printfmtln(fe, getobjectivevalue(MinCal))"
   ]
  },
  {
   "cell_type": "code",
   "execution_count": null,
   "metadata": {
    "collapsed": true
   },
   "outputs": [],
   "source": []
  }
 ],
 "metadata": {
  "kernelspec": {
   "display_name": "Julia 0.4.7",
   "language": "julia",
   "name": "julia-0.4"
  },
  "language_info": {
   "file_extension": ".jl",
   "mimetype": "application/julia",
   "name": "julia",
   "version": "0.4.7"
  }
 },
 "nbformat": 4,
 "nbformat_minor": 0
}
