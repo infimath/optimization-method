{
 "cells": [
  {
   "cell_type": "markdown",
   "metadata": {},
   "source": [
    "## PART A\n",
    "\n",
    "In the facility location problem, the goal is to optimally place facilities so as to minimize transportation costs from the facilities to the customers. In practice, one rarely knows the demand of customers with a high degree of accuracy. In addition, the transportation costs themselves may vary with time and are subject to uncertainty. In this version of the facility location problem, we assume that all data is known.\n",
    "\n",
    "In the first part of this problem, the goal is to locate one or more facilities out of five possible sites, which we designated as $F_1,F_2,F_3,F_4$, and $F_5$. The cost of selecting a facility is \\$40. Coincidentally, there are also five customers that need to be serviced. We refer to them as $C_1,C_2,C_3,C_4$ and $C_5$. The delivery cost from each possible facility site to each of the five customers is known. The cost of satisfying (all of) the demand of Customer $C_j$ from site $F_i$ is $d_{ij}$. (Note that the first index is for the site and the second is for the customer.) The delivery cost from all possible sites to all customers are given in Table 1 below.\n",
    "\n",
    "|            | Customer $C_1$ | Customer $C_2$ | Customer $C_3$ | Customer $C_4$ | Customer $C_5$ |\n",
    "|------------|---------------:|---------------:|---------------:|---------------:|---------------:|\n",
    "| Site $F_1$ |             30 |             15 |             59 |             78 |             27 |\n",
    "| Site $F_2$ |             50 |             42 |             25 |             30 |             53 |\n",
    "| Site $F_3$ |             64 |             14 |             30 |             20 |             62 |\n",
    "| Site $F_4$ |             46 |             19 |             66 |             48 |             11 |\n",
    "| Site $F_5$ |             19 |             40 |             60 |             31 |             27 |\n",
    "\n",
    "The decision variables for this problem are as follows:\n",
    "\n",
    "- $y_j=1$ if a facility is located at site $F_j$. Otherwise, $y_j=0$. \n",
    "- $0≤x_{ij}≤1$ represent the fraction of demand from $C_j$ satisfied by facility $F_i$. \n",
    "\n",
    "The cost associated with customer $C_1$ would be\n",
    "\n",
    "$$d_{11}x_{11}+d_{21}x_{21}+d_{31}x_{31}+d_{41}x_{41}+d_{51}x_{51}$$\n",
    "\n",
    "One would also need to add constraints that ensures that $x_{ij}=0,\\forall j=1,\\ldots,5$ whenever $y_i=0$, which means we cannot use site $F_i$ to serve any customer $C_j$ if we don’t locate a facility at site $i$; (2) all the customers’ demand need to be satisfied.\n",
    "\n",
    "Formulate this problem as a deterministic optimization problem in which the objective is to minimize the expected total cost which is the sum of the facility opening cost and the expected delivery cost.\n",
    "\n",
    "Choose the correct objection function from below."
   ]
  },
  {
   "cell_type": "code",
   "execution_count": null,
   "metadata": {
    "collapsed": true
   },
   "outputs": [],
   "source": []
  },
  {
   "cell_type": "markdown",
   "metadata": {},
   "source": [
    "## PART B\n",
    "\n",
    "Assume that a facility i is either used to serve a customer j or it is not, rather than a fractional amount. Write all the constraint of given problem."
   ]
  },
  {
   "cell_type": "code",
   "execution_count": null,
   "metadata": {
    "collapsed": true
   },
   "outputs": [],
   "source": []
  },
  {
   "cell_type": "markdown",
   "metadata": {},
   "source": [
    "## PART C\n",
    "\n",
    "Solve the deterministic facility location you formulated above using Julia/JuMP. Which facilities are open? Select both of them."
   ]
  },
  {
   "cell_type": "code",
   "execution_count": null,
   "metadata": {
    "collapsed": true
   },
   "outputs": [],
   "source": []
  },
  {
   "cell_type": "markdown",
   "metadata": {},
   "source": [
    "## PART D\n",
    "\n",
    "What will be the total minimum cost?"
   ]
  },
  {
   "cell_type": "code",
   "execution_count": null,
   "metadata": {
    "collapsed": true
   },
   "outputs": [],
   "source": []
  },
  {
   "cell_type": "markdown",
   "metadata": {},
   "source": [
    "## PART E\n",
    "\n",
    "In the second part of the problem, we will consider the stochastic version. The delivery cost of satisfying customers from the facilities is uncertain. It depends on which future scenario occurs. There are five possible scenarios. Below is the probability of each scenario: $p_1,p_2,\\ldots,p_5$.\n",
    "\n",
    "|             | Scenario 1 | Scenario 2 | Scenario 3 | Scenario 4 | Scenario 5 |\n",
    "|-------------|-----------:|-----------:|-----------:|-----------:|-----------:|\n",
    "| Probability |       0.15 |       0.15 |       0.25 |        0.2 |       0.25 | \t\n",
    "\n",
    "We will model this as a 2-stage stochastic optimization problem. In the first stage, the decision is which of the five facilities to select. Similarly, we let $y_j=1$ if a facility is located at site $F_i$. Otherwise, $y_j=0$. The cost of opening up a facility is \\$40.\n",
    "\n",
    "After the facilities are selected, the decision maker learns which of the five scenarios occurs. We let the scenarios be designated as $S_1,S_2,S_3,S_4$ and $S_5$. We let dijk denote the cost of satisfying demand of customer $C_j$ using facility $F_i$ under scenario $S_k$. Note that the first subscript corresponds to the facility and the second subscript corresponds to the customer. The data of $d_{ij}^k$ is stored in pset6_p1_data.xlsx\n",
    "\n",
    "We let $x_{ij}^k=1$ if customer $C_{ji}^s$ served by facility $F_i$ under scenario $S_k$. Otherwise, it is $0$.\n",
    "\n",
    "Model the problem of minimizing the following sum: the cost of opening facilities plus the expected cost of satisfying demand for customers from the open facilities\n",
    "\n",
    "Choose the correct objection function from below."
   ]
  },
  {
   "cell_type": "code",
   "execution_count": null,
   "metadata": {
    "collapsed": true
   },
   "outputs": [],
   "source": []
  },
  {
   "cell_type": "markdown",
   "metadata": {},
   "source": [
    "## PART F\n",
    "\n",
    "Choose all necessary constraint(s) from below."
   ]
  },
  {
   "cell_type": "code",
   "execution_count": null,
   "metadata": {
    "collapsed": true
   },
   "outputs": [],
   "source": []
  },
  {
   "cell_type": "markdown",
   "metadata": {},
   "source": [
    "## PART G\n",
    "\n",
    "Solve the stochastic facility location problem you formulated above using Julia/JuMP. Complete PS6_p1_partfg.jl to solve the problem. We already provide data in it.\n",
    "\n",
    "Which facilities will be opened under the optimal solution?"
   ]
  },
  {
   "cell_type": "code",
   "execution_count": null,
   "metadata": {
    "collapsed": true
   },
   "outputs": [],
   "source": []
  },
  {
   "cell_type": "markdown",
   "metadata": {},
   "source": [
    "## PART H\n",
    "\n",
    "What will be the total minimum cost?"
   ]
  },
  {
   "cell_type": "code",
   "execution_count": null,
   "metadata": {
    "collapsed": true
   },
   "outputs": [],
   "source": []
  }
 ],
 "metadata": {
  "kernelspec": {
   "display_name": "Julia 0.5.0",
   "language": "julia",
   "name": "julia-0.5"
  },
  "language_info": {
   "file_extension": ".jl",
   "mimetype": "application/julia",
   "name": "julia",
   "version": "0.5.0"
  }
 },
 "nbformat": 4,
 "nbformat_minor": 0
}
