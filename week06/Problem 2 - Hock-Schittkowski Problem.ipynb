{
 "cells": [
  {
   "cell_type": "markdown",
   "metadata": {},
   "source": [
    "Consider the Hock-Schittkowski problem, which is defined as follows:\n",
    "\n",
    "- Decision variables: $x_1,x_2,x_3,x_4$\n",
    "- Objective value: $z$\n",
    "\n",
    "Formulation:\n",
    "\n",
    "$$\n",
    "\\left.\\begin{array}{rrcl} \\min & z = x_1x_4(x_1 + x_2 + x_3) + x_3 \\\\\n",
    "         \\text {s.t.:} & & & \\\\\n",
    "          \\text{(1)} & x_1x_2x_3x_4 \\geq 25\\\\\n",
    "\t  \\text{(2)} & x^2_1 + x^2_2 +x^2_3 +x^2_4 = 40\\\\\n",
    "          \\text{(3)} & 1 \\leq x_1,x_2,x_3,x_4 \\leq 5\n",
    "\t\\end{array}\\right\\}\n",
    "$$\n",
    "\n",
    "What is the (rounded) optimal solution?"
   ]
  },
  {
   "cell_type": "code",
   "execution_count": 5,
   "metadata": {
    "collapsed": false
   },
   "outputs": [
    {
     "name": "stderr",
     "output_type": "stream",
     "text": [
      "INFO: Precompiling module NLopt.\n",
      "ERROR: LoadError: NLopt not properly installed. Please run Pkg.build(\"NLopt\")\n",
      " in error(::String) at .\\error.jl:21\n",
      " in include_from_node1(::String) at .\\loading.jl:488\n",
      " in macro expansion; at .\\none:2 [inlined]\n",
      " in anonymous at .\\<missing>:?\n",
      " in eval(::Module, ::Any) at .\\boot.jl:234\n",
      " in process_options(::Base.JLOptions) at .\\client.jl:239\n",
      " in _start() at .\\client.jl:318\n",
      "while loading C:\\Users\\ssuman\\.julia\\v0.5\\NLopt\\src\\NLopt.jl, in expression starting on line 22\n"
     ]
    },
    {
     "ename": "LoadError",
     "evalue": "LoadError: Failed to precompile NLopt to C:\\Users\\ssuman\\.julia\\lib\\v0.5\\NLopt.ji.\nwhile loading In[5], in expression starting on line 2",
     "output_type": "error",
     "traceback": [
      "LoadError: Failed to precompile NLopt to C:\\Users\\ssuman\\.julia\\lib\\v0.5\\NLopt.ji.\nwhile loading In[5], in expression starting on line 2",
      "",
      " in compilecache(::String) at .\\loading.jl:593",
      " in require(::Symbol) at .\\loading.jl:422"
     ]
    }
   ],
   "source": [
    "using JuMP\n",
    "using NLopt\n",
    "m = Model(solver=NLoptSolver(algorithm=:LD_SLSQP))\n",
    "\n",
    "# Adding Variables\n",
    "@variable(m, 1 <= x[1:4] <= 5)\n",
    "\n",
    "print(m)\n",
    "# Adding nonlinear constraints\n",
    "@NLconstraint(m, x[1] * x[2] * x[3] * x[4] >= 25)\n",
    "@NLconstraint(m, x[1]^2 * x[2]^2 * x[3]^2 * x[4]^2 == 40)\n",
    "\n",
    "# Adding nonlinear objective\n",
    "@NLobjective(m, Min, x[1] * x[4] * (x[1] + x[2] + x[3]) + x[3])\n",
    "\n",
    "solve(m)"
   ]
  },
  {
   "cell_type": "code",
   "execution_count": null,
   "metadata": {
    "collapsed": true
   },
   "outputs": [],
   "source": []
  }
 ],
 "metadata": {
  "kernelspec": {
   "display_name": "Julia 0.5.0",
   "language": "julia",
   "name": "julia-0.5"
  },
  "language_info": {
   "file_extension": ".jl",
   "mimetype": "application/julia",
   "name": "julia",
   "version": "0.5.0"
  }
 },
 "nbformat": 4,
 "nbformat_minor": 0
}
