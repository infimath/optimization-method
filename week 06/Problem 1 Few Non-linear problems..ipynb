{
 "cells": [
  {
   "cell_type": "markdown",
   "metadata": {},
   "source": [
    "## PART A\n",
    "\n",
    "Consider the NLP formulation below\n",
    "\n",
    "- Decision variables: $x_1,x_2$\n",
    "- Objective value: $z$\n",
    "\n",
    "Formulation:\n",
    "\n",
    "$$\n",
    "\\left.\\begin{array}{rrcl} \\min & 100(x_2-(\\frac{1}{2}+x_1)^2)^2 + (1-x_1)^2 \\\\\n",
    "         \\text {s.t.:} & & & \\\\\n",
    "          \\text{(1)} & x_1 \\geq 0\\\\\n",
    "          \\text{(2)} & x_2 \\geq 0 \\end{array}\\right\\}\n",
    "$$\n",
    "\n",
    "What is the (rounded) optimal solution?"
   ]
  },
  {
   "cell_type": "code",
   "execution_count": 24,
   "metadata": {
    "collapsed": false
   },
   "outputs": [
    {
     "name": "stdout",
     "output_type": "stream",
     "text": [
      "Optimal Value: 0.00\n",
      "Optimal Solution: (1.00, 2.25)\n"
     ]
    }
   ],
   "source": [
    "using JuMP\n",
    "m = Model()\n",
    "\n",
    "# Adding variable\n",
    "@variable(m, x[1:2] >= 0)\n",
    "# Adding objective \n",
    "@NLobjective(m, Min, 100 * (x[2] - (1/2 + x[1])^2)^2 + (1 - x[1])^2)\n",
    "\n",
    "solve(m)\n",
    "\n",
    "@printf \"Optimal Value: %0.2f\\n\" getobjectivevalue(m)\n",
    "@printf \"Optimal Solution: (%0.2f, %0.2f)\\n\" getvalue(x)[1] getvalue(x)[2]"
   ]
  },
  {
   "cell_type": "markdown",
   "metadata": {},
   "source": [
    "## PART B\n",
    "\n",
    "Consider the NLP formulation below\n",
    "\n",
    "- Decision variables: $x_1,x_2,x_3$\n",
    "- Objective value: $z$\n",
    "\n",
    "Formulation:\n",
    "$$\n",
    "\\left.\\begin{array}{rrcl} \\min & (2x_1 + 3x_2 + 4x_3)^2 \\\\\n",
    "         \\text {s.t.:} & & & \\\\\n",
    "          \\text{(1)} & 10x_1 + 11x_2 + 12x_3 \\leq 60\\\\\n",
    "\t  \\text{(2)} & 21x_1 + 22x_2 + 23x_3 \\leq 150\\\\\n",
    "          \\text{(3)} & 21x_1 + 22x_2  -23x_3 \\geq 110\\\\\n",
    "\t  \\text{(4)} & 19x_1 + 34x_2 -32x_3 = 180 \\\\\n",
    "          \\text{(5)} & x_1,x_2,x_3 \\geq 0\n",
    "\t\\end{array}\\right\\}\n",
    "$$    \n",
    "\n",
    "What is the (rounded) optimal solution?"
   ]
  },
  {
   "cell_type": "code",
   "execution_count": 37,
   "metadata": {
    "collapsed": false
   },
   "outputs": [
    {
     "name": "stdout",
     "output_type": "stream",
     "text": [
      "Optimal Value: 252.249\n",
      "Optimal Solution: (0.00, 5.29, 0.00)\n"
     ]
    }
   ],
   "source": [
    "using JuMP\n",
    "nm = Model()\n",
    "\n",
    "@variable(nm, x[1:3] >= 0)\n",
    "\n",
    "@constraints nm begin\n",
    "    10x[1] + 11x[2] + 12x[3] <= 60\n",
    "    21x[1] + 22x[2] + 23x[3] <= 150\n",
    "    21x[1] + 22x[2] - 23x[3] >= 110\n",
    "    19x[1] + 34x[2] - 32x[3] == 180\n",
    "end\n",
    "\n",
    "@NLobjective(nm, Min, (2x[1] + 3x[2] + 4x[3])^2)\n",
    "\n",
    "solve(nm)\n",
    "\n",
    "@printf \"Optimal Value: %0.3f\\n\" getobjectivevalue(nm)\n",
    "@printf \"Optimal Solution: (%0.2f, %0.2f, %0.2f)\\n\" getvalue(x)[1] getvalue(x)[2] getvalue(x)[3] "
   ]
  },
  {
   "cell_type": "markdown",
   "metadata": {},
   "source": [
    "## PART C\n",
    "\n",
    "Consider the maximization of the same NLP formulation\n",
    "\n",
    "- Decision variables: $x_1,x_2,x_3$\n",
    "- Objective value: $z$\n",
    "\n",
    "Formulation:\n",
    "\n",
    "$$\n",
    "\\left.\\begin{array}{rrcl} \\max & (2x_1 + 3x_2 + 4x_3)^2 \\\\\n",
    "         \\text {s.t.:} & & & \\\\\n",
    "          \\text{(1)} & 10x_1 + 11x_2 + 12x_3 \\leq 60\\\\\n",
    "\t  \\text{(2)} & 21x_1 + 22x_2 + 23x_3 \\leq 150\\\\\n",
    "          \\text{(3)} & 21x_1 + 22x_2  -23x_3 \\geq 110\\\\\n",
    "\t  \\text{(4)} & 19x_1 + 34x_2 -32x_3 = 180 \\\\\n",
    "          \\text{(5)} & x_1,x_2,x_3 \\geq 0\n",
    "\t\\end{array}\\right\\}\n",
    "$$\n",
    "\n",
    "What is the rounded optimal solution?"
   ]
  },
  {
   "cell_type": "code",
   "execution_count": 38,
   "metadata": {
    "collapsed": false
   },
   "outputs": [
    {
     "name": "stdout",
     "output_type": "stream",
     "text": [
      "Optimal Value: 269.651\n",
      "Optimal Solution: (0.00, 5.37, 0.08)\n"
     ]
    }
   ],
   "source": [
    "using JuMP\n",
    "nm = Model()\n",
    "\n",
    "@variable(nm, x[1:3] >= 0)\n",
    "\n",
    "@constraints nm begin\n",
    "    10x[1] + 11x[2] + 12x[3] <= 60\n",
    "    21x[1] + 22x[2] + 23x[3] <= 150\n",
    "    21x[1] + 22x[2] - 23x[3] >= 110\n",
    "    19x[1] + 34x[2] - 32x[3] == 180\n",
    "end\n",
    "\n",
    "@NLobjective(nm, Max, (2x[1] + 3x[2] + 4x[3])^2)\n",
    "\n",
    "solve(nm)\n",
    "\n",
    "@printf \"Optimal Value: %0.3f\\n\" getobjectivevalue(nm)\n",
    "@printf \"Optimal Solution: (%0.2f, %0.2f, %0.2f)\\n\" getvalue(x)[1] getvalue(x)[2] getvalue(x)[3] "
   ]
  },
  {
   "cell_type": "code",
   "execution_count": null,
   "metadata": {
    "collapsed": true
   },
   "outputs": [],
   "source": []
  }
 ],
 "metadata": {
  "kernelspec": {
   "display_name": "Julia 0.5.0",
   "language": "julia",
   "name": "julia-0.5"
  },
  "language_info": {
   "file_extension": ".jl",
   "mimetype": "application/julia",
   "name": "julia",
   "version": "0.5.0"
  }
 },
 "nbformat": 4,
 "nbformat_minor": 0
}
