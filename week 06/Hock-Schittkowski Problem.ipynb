{
 "cells": [
  {
   "cell_type": "markdown",
   "metadata": {},
   "source": [
    "Consider the Hock-Schittkowski problem, which is defined as follows:\n",
    "\n",
    "- Decision variables: $x_1,x_2,x_3,x_4$\n",
    "- Objective value: $z$\n",
    "\n",
    "Formulation:\n",
    "\n",
    "$$\n",
    "\\left.\\begin{array}{rrcl} \\min & z = x_1x_4(x_1 + x_2 + x_3) + x_3 \\\\\n",
    "         \\text {s.t.:} & & & \\\\\n",
    "          \\text{(1)} & x_1x_2x_3x_4 \\geq 25\\\\\n",
    "\t  \\text{(2)} & x^2_1 + x^2_2 +x^2_3 +x^2_4 = 40\\\\\n",
    "          \\text{(3)} & 1 \\leq x_1,x_2,x_3,x_4 \\leq 5\n",
    "\t\\end{array}\\right\\}\n",
    "$$\n",
    "\n",
    "What is the (rounded) optimal solution?"
   ]
  },
  {
   "cell_type": "code",
   "execution_count": 5,
   "metadata": {
    "collapsed": false
   },
   "outputs": [
    {
     "name": "stdout",
     "output_type": "stream",
     "text": [
      "Min 0\n",
      "Subject to\n",
      " 1 <= x[i] <= 5 for all i in {1,2,3,4}\n"
     ]
    },
    {
     "name": "stderr",
     "output_type": "stream",
     "text": [
      "WARNING: Not solved to optimality, status: Infeasible\n"
     ]
    },
    {
     "data": {
      "text/plain": [
       ":Infeasible"
      ]
     },
     "execution_count": 5,
     "metadata": {},
     "output_type": "execute_result"
    }
   ],
   "source": [
    "using JuMP\n",
    "m = Model()\n",
    "\n",
    "# Adding Variables\n",
    "@variable(m, 1 <= x[1:4] <= 5)\n",
    "\n",
    "print(m)\n",
    "# Adding nonlinear constraints\n",
    "@NLconstraint(m, x[1] * x[2] * x[3] * x[4] >= 25)\n",
    "@NLconstraint(m, x[1]^2 * x[2]^2 * x[3]^2 * x[4]^2 == 40)\n",
    "\n",
    "# Adding nonlinear objective\n",
    "@NLobjective(m, Min, x[1] * x[4] * (x[1] + x[2] + x[3]) + x[3])\n",
    "\n",
    "solve(m)"
   ]
  },
  {
   "cell_type": "code",
   "execution_count": null,
   "metadata": {
    "collapsed": true
   },
   "outputs": [],
   "source": []
  }
 ],
 "metadata": {
  "kernelspec": {
   "display_name": "Julia 0.5.0",
   "language": "julia",
   "name": "julia-0.5"
  },
  "language_info": {
   "file_extension": ".jl",
   "mimetype": "application/julia",
   "name": "julia",
   "version": "0.5.0"
  }
 },
 "nbformat": 4,
 "nbformat_minor": 0
}
