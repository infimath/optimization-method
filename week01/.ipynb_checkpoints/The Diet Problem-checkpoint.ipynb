{
 "cells": [
  {
   "cell_type": "markdown",
   "metadata": {},
   "source": [
    "## The Diet Problem"
   ]
  },
  {
   "cell_type": "markdown",
   "metadata": {},
   "source": [
    "### Problem: \n",
    "Minimizing the cost of a meal\n",
    "    - Just few choice listed \n",
    "    - Between 600 and 900 cal. \n",
    "    - less than 50% of daily sodium \n",
    "    - at least 30gm of protein \n",
    "    - at most 40% of calories are from fat\n",
    "    - fractional meal permitted\n",
    "\n",
    "|            \t| Hamburger \t| Large Hamburger \t| Chicken Sandwitch \t| Salad  with  Chicken \t| French Fries \t|\n",
    "|------------\t|----------:\t|----------------:\t|------------------:\t|---------------------:\t|-------------:\t|\n",
    "| Total Cal. \t|       250 \t|             770 \t|               630 \t|                  190 \t|          230 \t|\n",
    "| Fat Cal.   \t|        80 \t|             360 \t|               145 \t|                   45 \t|          100 \t|\n",
    "| Protein/gm \t|        30 \t|              45 \t|                15 \t|                   25 \t|            3 \t|\n",
    "| Sodium/mg  \t|       480 \t|            1170 \t|               800 \t|                  580 \t|          160 \t|\n",
    "| Cost/$     \t|      1.00 \t|            3.00 \t|              2.50 \t|                 3.00 \t|         1.00 \t|\n",
    "\n"
   ]
  },
  {
   "cell_type": "markdown",
   "metadata": {},
   "source": [
    "### Formulation of LP\n",
    "\n",
    "\n",
    "** Decision Variable **\n",
    "\n",
    "    H = Number of unit of Hamburger \n",
    "    L = Number of unit of Large Hamburger \n",
    "    C = Number of unit of Chicken Sandwitches \n",
    "    S = Number of unit of Salad with Chicken\n",
    "    F = Number of unit of French Fries\n",
    "\n",
    "** Minimizing Cost **\n",
    "    \n",
    "    Minimize: cost = H + 3L + 2.5C + 3S + F\n",
    "    \n",
    "** Constraints **\n",
    "\n",
    "    Calorie constraints\n",
    "        250H + 770L + 360C + 190S + 230F >= 600\n",
    "        250H + 770L + 360C + 190S + 230F <= 600 \n",
    "        \n",
    "    Sodium Constraints\n",
    "        480H + 1170L + 800C + 580S + 160F >= 600\n",
    "    \n",
    "   "
   ]
  },
  {
   "cell_type": "markdown",
   "metadata": {},
   "source": []
  },
  {
   "cell_type": "code",
   "execution_count": null,
   "metadata": {
    "collapsed": true
   },
   "outputs": [],
   "source": []
  }
 ],
 "metadata": {
  "kernelspec": {
   "display_name": "Julia 0.4.6",
   "language": "julia",
   "name": "julia-0.4"
  },
  "language_info": {
   "file_extension": ".jl",
   "mimetype": "application/julia",
   "name": "julia",
   "version": "0.4.6"
  }
 },
 "nbformat": 4,
 "nbformat_minor": 0
}
