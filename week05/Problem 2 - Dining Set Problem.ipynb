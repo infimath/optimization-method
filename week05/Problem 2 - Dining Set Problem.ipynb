{
 "cells": [
  {
   "cell_type": "markdown",
   "metadata": {},
   "source": [
    "Excerpted from: Dimitris Bertsimas and John N. Tsitsiklis, Introduction to Linear Optimization, Athena Scientific, 1997, Exercise 5.8. We thank the authors for permitting us to use this problem.\n",
    "\n",
    "A pottery manufacturer can make four different types of dining room service sets: English, Currier, Primrose, and Bluetail. Furthermore, Primrose can be made by two different methods, labeled 1 and 2. Each set uses clay, enamel, dry room time, and kiln time, and results in a product shown in the table below. The rows correspond to different products abbreviated as below. [1]\n",
    "\n",
    "- E: Units English\n",
    "- C: Units Currier\n",
    "- P1: Units Primrose via Method 1\n",
    "- P2: Units Primrose via Method 2\n",
    "- B: Units Bluetail\n",
    "\n",
    "The resource constraints are on\n",
    "\n",
    "- Clay\n",
    "- Enamel\n",
    "- Dry room usage\n",
    "- Kiln\n",
    "- Primrose\n",
    "\n",
    "Hint: It must be the case that the Primrose created by method 1 and 2 must be equal, and should be reflected in one of the constraints.\n",
    "\n",
    "|                 \t| E  \t| C   \t| P1 \t| P2 \t| B  \t| Total \t|\n",
    "|-----------------\t|----\t|-----\t|----\t|----\t|----\t|-------\t|\n",
    "| Clay(lbs)       \t| 10 \t|  15 \t| 10 \t| 10 \t| 20 \t|   130 \t|\n",
    "| Enamel(lbs)     \t|  1 \t|   2 \t|  2 \t|  1 \t|  1 \t|    13 \t|\n",
    "| Dry room(hours) \t|  3 \t|   1 \t|  6 \t|  6 \t|  3 \t|    45 \t|\n",
    "| Kiln(hours)     \t|  2 \t|   4 \t|  2 \t|  5 \t|  3 \t|    23 \t|\n",
    "| Profit          \t| 51 \t| 102 \t| 66 \t| 66 \t| 89 \t|       \t|\n",
    "\n",
    "Assuming that the number of dining room service sets of each type can be fractional, formulate the product maximization problem of the manufacturer as an LP. Then click below to reveal the formulation. (This part counts for 0 points.)\n"
   ]
  },
  {
   "cell_type": "markdown",
   "metadata": {},
   "source": [
    "## Formulation"
   ]
  },
  {
   "cell_type": "markdown",
   "metadata": {},
   "source": [
    "$$\n",
    "\\left.\\begin{array}{rrcl} \\max & z=51E + 102C + 66P_1 + 66P_2 +89B \\\\\n",
    "                \\text {s.t.:} & & & \\\\\n",
    "                & 10E+15C+10P_1+10P_2+20B \\leq 130 \\\\.\n",
    "& E+2C+2P_1+P_2+B \\leq 13  \\\\\n",
    "& 3E+C+6P_1+6P_2+3B \\leq 45 \\\\ \n",
    "&  2E+4C+2P_1+5P_2+3B \\leq 23\\\\\n",
    "&  P_1-P_2 = 0 \\\\\n",
    "&  E,C,P_1,P_2, B  \\geq 0 \\\\                \n",
    "\\end{array}\\right\\}\n",
    "$$"
   ]
  },
  {
   "cell_type": "code",
   "execution_count": 22,
   "metadata": {
    "collapsed": false
   },
   "outputs": [
    {
     "name": "stdout",
     "output_type": "stream",
     "text": [
      "Optimal Profit: 649.0\n",
      "English dining service set produced: 0.0\n",
      "Currier dining service set produced: 2.0\n",
      "Primrose via method 1 dining service set produced: -0.0\n",
      "Primrose via method 2 dining service set produced: 0.0\n",
      "Bluetail dining service set produced: 5.0\n"
     ]
    }
   ],
   "source": [
    "using JuMP\n",
    "# Define model\n",
    "m = Model()\n",
    "\n",
    "@variables m begin\n",
    "    E  >= 0\n",
    "    C  >= 0\n",
    "    P1 >= 0\n",
    "    P2 >= 0\n",
    "    B  >= 0\n",
    "end\n",
    "\n",
    "@constraints m begin\n",
    "    10E + 15C + 10P1 + 10P2 + 20B <= 130\n",
    "      E +  2C +  2P1 +   P2 +   B <= 13 \n",
    "     3E +   C +  6P1 +  6P2 +  3B <= 45 \n",
    "     2E +  4C +  2P1 +  5P2 +  3B <= 23\n",
    "                  P1 -   P2       == 0\n",
    "end\n",
    "\n",
    "@objective(m, Max,  51E + 102C + 66P1 + 66P2 + 89B)\n",
    "\n",
    "solve(m)\n",
    "\n",
    "println(\"Optimal Profit: \", getobjectivevalue(m))\n",
    "println(\"English dining service set produced: \", getvalue( E))\n",
    "println(\"Currier dining service set produced: \",getvalue( C))\n",
    "println(\"Primrose via method 1 dining service set produced: \",getvalue(P1))\n",
    "println(\"Primrose via method 2 dining service set produced: \",getvalue(P2))\n",
    "println(\"Bluetail dining service set produced: \",getvalue( B))"
   ]
  },
  {
   "cell_type": "markdown",
   "metadata": {},
   "source": [
    "Writing the LP in \"dining.lp\" file"
   ]
  },
  {
   "cell_type": "code",
   "execution_count": 23,
   "metadata": {
    "collapsed": true
   },
   "outputs": [],
   "source": [
    "writeLP(m, \"dining.lp\")"
   ]
  },
  {
   "cell_type": "code",
   "execution_count": 2,
   "metadata": {
    "collapsed": false
   },
   "outputs": [
    {
     "name": "stdout",
     "output_type": "stream",
     "text": [
      "Maximize\n",
      " obj: 51 VAR1 + 102 VAR2 + 66 VAR3 + 66 VAR4 + 89 VAR5\n",
      "Subject To\n",
      " c1: 10 VAR1 + 15 VAR2 + 10 VAR3 + 10 VAR4 + 20 VAR5 <= 130\n",
      " c2: 1 VAR1 + 2 VAR2 + 2 VAR3 + 1 VAR4 + 1 VAR5 <= 13\n",
      " c3: 3 VAR1 + 1 VAR2 + 6 VAR3 + 6 VAR4 + 3 VAR5 <= 45\n",
      " c4: 2 VAR1 + 4 VAR2 + 2 VAR3 + 5 VAR4 + 3 VAR5 <= 23\n",
      " c5: 1 VAR3 - 1 VAR4 = 0\n",
      "Bounds\n",
      " 0 <= VAR1 <= +inf\n",
      " 0 <= VAR2 <= +inf\n",
      " 0 <= VAR3 <= +inf\n",
      " 0 <= VAR4 <= +inf\n",
      " 0 <= VAR5 <= +inf\n",
      "General\n",
      "End\n"
     ]
    }
   ],
   "source": [
    "!less \"dining.lp\""
   ]
  },
  {
   "cell_type": "code",
   "execution_count": 3,
   "metadata": {
    "collapsed": false
   },
   "outputs": [
    {
     "name": "stdout",
     "output_type": "stream",
     "text": [
      "GLPSOL: GLPK LP/MIP Solver, v4.60\n",
      "Parameter(s) specified in the command line:\n",
      " --cpxlp dining.lp --ranges dining.sen\n",
      "Reading problem data from 'dining.lp'...\n",
      "5 rows, 5 columns, 22 non-zeros\n",
      "16 lines were read\n",
      "GLPK Simplex Optimizer, v4.60\n",
      "5 rows, 5 columns, 22 non-zeros\n",
      "Preprocessing...\n",
      "5 rows, 5 columns, 22 non-zeros\n",
      "Scaling...\n",
      " A: min|aij| =  1.000e+00  max|aij| =  2.000e+01  ratio =  2.000e+01\n",
      "GM: min|aij| =  5.298e-01  max|aij| =  1.887e+00  ratio =  3.562e+00\n",
      "EQ: min|aij| =  2.847e-01  max|aij| =  1.000e+00  ratio =  3.513e+00\n",
      "Constructing initial basis...\n",
      "Size of triangular part is 5\n",
      "*     0: obj =  -0.000000000e+00 inf =   0.000e+00 (4)\n",
      "*     2: obj =   6.490000000e+02 inf =   0.000e+00 (0)\n",
      "OPTIMAL LP SOLUTION FOUND\n",
      "Time used:   0.0 secs\n",
      "Memory used: 0.0 Mb (32432 bytes)\n",
      "Write sensitivity analysis report to 'dining.sen'...\n"
     ]
    }
   ],
   "source": [
    "!glpsol --cpxlp dining.lp --ranges dining.sen"
   ]
  },
  {
   "cell_type": "code",
   "execution_count": 4,
   "metadata": {
    "collapsed": false
   },
   "outputs": [
    {
     "name": "stdout",
     "output_type": "stream",
     "text": [
      "GLPK 4.60 - SENSITIVITY ANALYSIS REPORT                                                                         Page   1\n",
      "\n",
      "Problem:    \n",
      "Objective:  obj = 649 (MAXimum)\n",
      "\n",
      "   No. Row name     St      Activity         Slack   Lower bound       Activity      Obj coef  Obj value at Limiting\n",
      "                                          Marginal   Upper bound          range         range   break point variable\n",
      "------ ------------ -- ------------- ------------- -------------  ------------- ------------- ------------- ------------\n",
      "     1 c1           NU     130.00000        .               -Inf       86.25000      -1.42857     586.50000 VAR5\n",
      "                                           1.42857     130.00000      153.33333          +Inf     682.33333 VAR2\n",
      "\n",
      "     2 c2           BS       9.00000       4.00000          -Inf        6.50000     -28.20000     395.20000 c4\n",
      "                                            .           13.00000       11.50000      25.00000     874.00000 c1\n",
      "\n",
      "     3 c3           BS      17.00000      28.00000          -Inf        5.75000      -5.55556     554.55556 c1\n",
      "                                            .           45.00000       30.00000       1.92308     681.69231 VAR1\n",
      "\n",
      "     4 c4           NU      23.00000        .               -Inf       19.50000     -20.14286     578.50000 VAR2\n",
      "                                          20.14286      23.00000       28.60000          +Inf     761.80000 c2\n",
      "\n",
      "     5 c5           NS        .             .             .            -1.00000          -Inf     600.00000 VAR2\n",
      "                                          49.00000        .              .               +Inf     649.00000 VAR4\n",
      "\n",
      "GLPK 4.60 - SENSITIVITY ANALYSIS REPORT                                                                         Page   2\n",
      "\n",
      "Problem:    \n",
      "Objective:  obj = 649 (MAXimum)\n",
      "\n",
      "   No. Column name  St      Activity      Obj coef   Lower bound       Activity      Obj coef  Obj value at Limiting\n",
      "                                          Marginal   Upper bound          range         range   break point variable\n",
      "------ ------------ -- ------------- ------------- -------------  ------------- ------------- ------------- ------------\n",
      "     1 VAR1         NL        .           51.00000        .                -Inf          -Inf          +Inf\n",
      "                                          -3.57143          +Inf        7.00000      54.57143     624.00000 VAR2\n",
      "\n",
      "     2 VAR2         BS       2.00000     102.00000        .            -2.30769      89.50000     624.00000 VAR1\n",
      "                                            .               +Inf        5.75000     118.66667     682.33333 c1\n",
      "\n",
      "     3 VAR3         NL        .           66.00000        .              .               -Inf     649.00000 VAR4\n",
      "                                         -37.57143          +Inf         .87500     103.57143     616.12500 VAR2\n",
      "\n",
      "     4 VAR4         BS        .           66.00000        .              .               -Inf     649.00000\n",
      "                                            .               +Inf         .87500     103.57143     649.00000 VAR3\n",
      "\n",
      "     5 VAR5         BS       5.00000      89.00000        .             3.00000      76.50000     586.50000 VAR1\n",
      "                                            .               +Inf        6.50000     136.00000     884.00000 c4\n",
      "\n",
      "End of report\n"
     ]
    }
   ],
   "source": [
    "!less \"dining.sen\""
   ]
  }
 ],
 "metadata": {
  "kernelspec": {
   "display_name": "Python 2",
   "language": "python",
   "name": "python2"
  },
  "language_info": {
   "codemirror_mode": {
    "name": "ipython",
    "version": 2
   },
   "file_extension": ".py",
   "mimetype": "text/x-python",
   "name": "python",
   "nbconvert_exporter": "python",
   "pygments_lexer": "ipython2",
   "version": "2.7.11"
  }
 },
 "nbformat": 4,
 "nbformat_minor": 0
}
