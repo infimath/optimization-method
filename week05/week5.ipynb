{
 "cells": [
  {
   "cell_type": "markdown",
   "metadata": {},
   "source": [
    "# Lecture"
   ]
  },
  {
   "cell_type": "code",
   "execution_count": 4,
   "metadata": {
    "collapsed": false
   },
   "outputs": [
    {
     "name": "stdout",
     "output_type": "stream",
     "text": [
      "21.0\n"
     ]
    }
   ],
   "source": [
    "using JuMP\n",
    "\n",
    "m = Model()\n",
    "\n",
    "@variables m begin\n",
    "    r>=0\n",
    "    g>=0\n",
    "end\n",
    "\n",
    "@constraints m begin\n",
    "    r + g <= 8\n",
    "    r     >= 1\n",
    "        g >= 1\n",
    "    r     <= 5\n",
    "        g <= 6\n",
    "end\n",
    "\n",
    "@objective(m, Max, 3r+2g)\n",
    "\n",
    "solve(m)\n",
    "\n",
    "println(getobjectivevalue(m))\n",
    "writeLP(m, \"costs.lp\")"
   ]
  },
  {
   "cell_type": "markdown",
   "metadata": {},
   "source": [
    "**Changing Kernel to Execute Shell Command**"
   ]
  },
  {
   "cell_type": "code",
   "execution_count": 1,
   "metadata": {
    "collapsed": false
   },
   "outputs": [
    {
     "name": "stdout",
     "output_type": "stream",
     "text": [
      "Maximize\n",
      " obj: 3 VAR1 + 2 VAR2\n",
      "Subject To\n",
      " c1: 1 VAR1 + 1 VAR2 <= 8\n",
      " c2: 1 VAR1 >= 1\n",
      " c3: 1 VAR2 >= 1\n",
      " c4: 1 VAR1 <= 5\n",
      " c5: 1 VAR2 <= 6\n",
      "Bounds\n",
      " 0 <= VAR1 <= +inf\n",
      " 0 <= VAR2 <= +inf\n",
      "General\n",
      "End\n"
     ]
    }
   ],
   "source": [
    "!less \"costs.lp\""
   ]
  },
  {
   "cell_type": "code",
   "execution_count": 3,
   "metadata": {
    "collapsed": false
   },
   "outputs": [
    {
     "name": "stdout",
     "output_type": "stream",
     "text": [
      "GLPSOL: GLPK LP/MIP Solver, v4.60\n",
      "Parameter(s) specified in the command line:\n",
      " --cpxlp costs.lp --ranges costs.sen\n",
      "Reading problem data from 'costs.lp'...\n",
      "5 rows, 2 columns, 6 non-zeros\n",
      "13 lines were read\n",
      "GLPK Simplex Optimizer, v4.60\n",
      "5 rows, 2 columns, 6 non-zeros\n",
      "Preprocessing...\n",
      "1 row, 2 columns, 2 non-zeros\n",
      "Scaling...\n",
      " A: min|aij| =  1.000e+00  max|aij| =  1.000e+00  ratio =  1.000e+00\n",
      "Problem data seem to be well scaled\n",
      "Constructing initial basis...\n",
      "Size of triangular part is 1\n",
      "*     0: obj =   5.000000000e+00 inf =   0.000e+00 (2)\n",
      "*     2: obj =   2.100000000e+01 inf =   0.000e+00 (0)\n",
      "OPTIMAL LP SOLUTION FOUND\n",
      "Time used:   0.2 secs\n",
      "Memory used: 0.0 Mb (40416 bytes)\n",
      "Write sensitivity analysis report to 'costs.sen'...\n"
     ]
    }
   ],
   "source": [
    "!glpsol --cpxlp costs.lp --ranges costs.sen"
   ]
  },
  {
   "cell_type": "code",
   "execution_count": 4,
   "metadata": {
    "collapsed": false
   },
   "outputs": [
    {
     "name": "stdout",
     "output_type": "stream",
     "text": [
      "GLPK 4.60 - SENSITIVITY ANALYSIS REPORT                                                                         Page   1\n",
      "\n",
      "Problem:    \n",
      "Objective:  obj = 21 (MAXimum)\n",
      "\n",
      "   No. Row name     St      Activity         Slack   Lower bound       Activity      Obj coef  Obj value at Limiting\n",
      "                                          Marginal   Upper bound          range         range   break point variable\n",
      "------ ------------ -- ------------- ------------- -------------  ------------- ------------- ------------- ------------\n",
      "     1 c1           NU       8.00000        .               -Inf        6.00000      -2.00000      17.00000 c3\n",
      "                                           2.00000       8.00000       11.00000          +Inf      27.00000 c5\n",
      "\n",
      "     2 c2           BS       5.00000      -4.00000       1.00000        2.00000      -1.00000      16.00000 c4\n",
      "                                            .               +Inf        5.00000          +Inf          +Inf\n",
      "\n",
      "     3 c3           BS       3.00000      -2.00000       1.00000         .           -2.00000      15.00000 c1\n",
      "                                            .               +Inf        6.00000       1.00000      24.00000 c4\n",
      "\n",
      "     4 c4           NU       5.00000        .               -Inf        2.00000      -1.00000      18.00000 c5\n",
      "                                           1.00000       5.00000        7.00000          +Inf      23.00000 c3\n",
      "\n",
      "     5 c5           BS       3.00000       3.00000          -Inf        1.00000      -2.00000      15.00000 c1\n",
      "                                            .            6.00000        7.00000       1.00000      24.00000 c4\n",
      "\n",
      "GLPK 4.60 - SENSITIVITY ANALYSIS REPORT                                                                         Page   2\n",
      "\n",
      "Problem:    \n",
      "Objective:  obj = 21 (MAXimum)\n",
      "\n",
      "   No. Column name  St      Activity      Obj coef   Lower bound       Activity      Obj coef  Obj value at Limiting\n",
      "                                          Marginal   Upper bound          range         range   break point variable\n",
      "------ ------------ -- ------------- ------------- -------------  ------------- ------------- ------------- ------------\n",
      "     1 VAR1         BS       5.00000       3.00000        .             2.00000       2.00000      16.00000 c4\n",
      "                                            .               +Inf        5.00000          +Inf          +Inf\n",
      "\n",
      "     2 VAR2         BS       3.00000       2.00000        .             1.00000        .           15.00000 c1\n",
      "                                            .               +Inf        6.00000       3.00000      24.00000 c4\n",
      "\n",
      "End of report\n"
     ]
    }
   ],
   "source": [
    "!less \"costs.sen\""
   ]
  },
  {
   "cell_type": "code",
   "execution_count": null,
   "metadata": {
    "collapsed": false
   },
   "outputs": [
    {
     "name": "stderr",
     "output_type": "stream",
     "text": [
      "INFO: Cloning cache of ColorTypes from https://github.com/JuliaGraphics/ColorTypes.jl.git\n",
      "INFO: Cloning cache of Colors from https://github.com/JuliaGraphics/Colors.jl.git\n",
      "INFO: Cloning cache of FixedPointNumbers from https://github.com/JuliaMath/FixedPointNumbers.jl.git\n",
      "INFO: Cloning cache of FixedSizeArrays from https://github.com/SimonDanisch/FixedSizeArrays.jl.git\n"
     ]
    }
   ],
   "source": [
    "Pkg.add(\"Plots\")"
   ]
  },
  {
   "cell_type": "code",
   "execution_count": 2,
   "metadata": {
    "collapsed": false
   },
   "outputs": [
    {
     "name": "stderr",
     "output_type": "stream",
     "text": [
      "ERROR: Cell magic `%%julia` not found.\n"
     ]
    }
   ],
   "source": [
    "%%julia\n",
    "\n",
    "println(\"Hello from Julia!\\n\")\n",
    "[1:10]"
   ]
  },
  {
   "cell_type": "code",
   "execution_count": null,
   "metadata": {
    "collapsed": true
   },
   "outputs": [],
   "source": []
  }
 ],
 "metadata": {
  "anaconda-cloud": {},
  "kernelspec": {
   "display_name": "Julia 0.5.0",
   "language": "julia",
   "name": "julia-0.5"
  },
  "language_info": {
   "file_extension": ".jl",
   "mimetype": "application/julia",
   "name": "julia",
   "version": "0.5.0"
  }
 },
 "nbformat": 4,
 "nbformat_minor": 0
}
